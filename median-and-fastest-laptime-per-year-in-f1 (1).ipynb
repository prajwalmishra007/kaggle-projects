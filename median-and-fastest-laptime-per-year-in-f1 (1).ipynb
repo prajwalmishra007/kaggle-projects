{
 "cells": [
  {
   "cell_type": "code",
   "execution_count": 1,
   "id": "41e6e03d",
   "metadata": {
    "execution": {
     "iopub.execute_input": "2025-06-15T15:27:32.935501Z",
     "iopub.status.busy": "2025-06-15T15:27:32.935068Z",
     "iopub.status.idle": "2025-06-15T15:27:35.044967Z",
     "shell.execute_reply": "2025-06-15T15:27:35.044013Z"
    },
    "papermill": {
     "duration": 2.116264,
     "end_time": "2025-06-15T15:27:35.046835",
     "exception": false,
     "start_time": "2025-06-15T15:27:32.930571",
     "status": "completed"
    },
    "tags": []
   },
   "outputs": [],
   "source": [
    "import pandas as pd\n",
    "import numpy as np\n",
    "import matplotlib.pyplot as plt"
   ]
  },
  {
   "cell_type": "code",
   "execution_count": 2,
   "id": "2762d4d9",
   "metadata": {
    "execution": {
     "iopub.execute_input": "2025-06-15T15:27:35.054205Z",
     "iopub.status.busy": "2025-06-15T15:27:35.053739Z",
     "iopub.status.idle": "2025-06-15T15:27:35.105046Z",
     "shell.execute_reply": "2025-06-15T15:27:35.103966Z"
    },
    "papermill": {
     "duration": 0.056541,
     "end_time": "2025-06-15T15:27:35.106642",
     "exception": false,
     "start_time": "2025-06-15T15:27:35.050101",
     "status": "completed"
    },
    "tags": []
   },
   "outputs": [
    {
     "data": {
      "text/html": [
       "<div>\n",
       "<style scoped>\n",
       "    .dataframe tbody tr th:only-of-type {\n",
       "        vertical-align: middle;\n",
       "    }\n",
       "\n",
       "    .dataframe tbody tr th {\n",
       "        vertical-align: top;\n",
       "    }\n",
       "\n",
       "    .dataframe thead th {\n",
       "        text-align: right;\n",
       "    }\n",
       "</style>\n",
       "<table border=\"1\" class=\"dataframe\">\n",
       "  <thead>\n",
       "    <tr style=\"text-align: right;\">\n",
       "      <th></th>\n",
       "      <th>raceId</th>\n",
       "      <th>year</th>\n",
       "      <th>round</th>\n",
       "      <th>circuitId</th>\n",
       "      <th>name</th>\n",
       "      <th>date</th>\n",
       "      <th>time</th>\n",
       "      <th>url</th>\n",
       "    </tr>\n",
       "  </thead>\n",
       "  <tbody>\n",
       "    <tr>\n",
       "      <th>0</th>\n",
       "      <td>1</td>\n",
       "      <td>2009</td>\n",
       "      <td>1</td>\n",
       "      <td>1</td>\n",
       "      <td>Australian Grand Prix</td>\n",
       "      <td>2009-03-29</td>\n",
       "      <td>06:00:00</td>\n",
       "      <td>http://en.wikipedia.org/wiki/2009_Australian_G...</td>\n",
       "    </tr>\n",
       "    <tr>\n",
       "      <th>1</th>\n",
       "      <td>2</td>\n",
       "      <td>2009</td>\n",
       "      <td>2</td>\n",
       "      <td>2</td>\n",
       "      <td>Malaysian Grand Prix</td>\n",
       "      <td>2009-04-05</td>\n",
       "      <td>09:00:00</td>\n",
       "      <td>http://en.wikipedia.org/wiki/2009_Malaysian_Gr...</td>\n",
       "    </tr>\n",
       "    <tr>\n",
       "      <th>2</th>\n",
       "      <td>3</td>\n",
       "      <td>2009</td>\n",
       "      <td>3</td>\n",
       "      <td>17</td>\n",
       "      <td>Chinese Grand Prix</td>\n",
       "      <td>2009-04-19</td>\n",
       "      <td>07:00:00</td>\n",
       "      <td>http://en.wikipedia.org/wiki/2009_Chinese_Gran...</td>\n",
       "    </tr>\n",
       "    <tr>\n",
       "      <th>3</th>\n",
       "      <td>4</td>\n",
       "      <td>2009</td>\n",
       "      <td>4</td>\n",
       "      <td>3</td>\n",
       "      <td>Bahrain Grand Prix</td>\n",
       "      <td>2009-04-26</td>\n",
       "      <td>12:00:00</td>\n",
       "      <td>http://en.wikipedia.org/wiki/2009_Bahrain_Gran...</td>\n",
       "    </tr>\n",
       "    <tr>\n",
       "      <th>4</th>\n",
       "      <td>5</td>\n",
       "      <td>2009</td>\n",
       "      <td>5</td>\n",
       "      <td>4</td>\n",
       "      <td>Spanish Grand Prix</td>\n",
       "      <td>2009-05-10</td>\n",
       "      <td>12:00:00</td>\n",
       "      <td>http://en.wikipedia.org/wiki/2009_Spanish_Gran...</td>\n",
       "    </tr>\n",
       "  </tbody>\n",
       "</table>\n",
       "</div>"
      ],
      "text/plain": [
       "   raceId  year  round  circuitId                   name        date  \\\n",
       "0       1  2009      1          1  Australian Grand Prix  2009-03-29   \n",
       "1       2  2009      2          2   Malaysian Grand Prix  2009-04-05   \n",
       "2       3  2009      3         17     Chinese Grand Prix  2009-04-19   \n",
       "3       4  2009      4          3     Bahrain Grand Prix  2009-04-26   \n",
       "4       5  2009      5          4     Spanish Grand Prix  2009-05-10   \n",
       "\n",
       "       time                                                url  \n",
       "0  06:00:00  http://en.wikipedia.org/wiki/2009_Australian_G...  \n",
       "1  09:00:00  http://en.wikipedia.org/wiki/2009_Malaysian_Gr...  \n",
       "2  07:00:00  http://en.wikipedia.org/wiki/2009_Chinese_Gran...  \n",
       "3  12:00:00  http://en.wikipedia.org/wiki/2009_Bahrain_Gran...  \n",
       "4  12:00:00  http://en.wikipedia.org/wiki/2009_Spanish_Gran...  "
      ]
     },
     "execution_count": 2,
     "metadata": {},
     "output_type": "execute_result"
    }
   ],
   "source": [
    "races = pd.read_csv('/kaggle/input/race-data/races.csv')\n",
    "races.head()"
   ]
  },
  {
   "cell_type": "code",
   "execution_count": 3,
   "id": "d9b237a5",
   "metadata": {
    "execution": {
     "iopub.execute_input": "2025-06-15T15:27:35.114034Z",
     "iopub.status.busy": "2025-06-15T15:27:35.113699Z",
     "iopub.status.idle": "2025-06-15T15:27:35.652836Z",
     "shell.execute_reply": "2025-06-15T15:27:35.651826Z"
    },
    "papermill": {
     "duration": 0.545191,
     "end_time": "2025-06-15T15:27:35.654753",
     "exception": false,
     "start_time": "2025-06-15T15:27:35.109562",
     "status": "completed"
    },
    "tags": []
   },
   "outputs": [
    {
     "data": {
      "text/html": [
       "<div>\n",
       "<style scoped>\n",
       "    .dataframe tbody tr th:only-of-type {\n",
       "        vertical-align: middle;\n",
       "    }\n",
       "\n",
       "    .dataframe tbody tr th {\n",
       "        vertical-align: top;\n",
       "    }\n",
       "\n",
       "    .dataframe thead th {\n",
       "        text-align: right;\n",
       "    }\n",
       "</style>\n",
       "<table border=\"1\" class=\"dataframe\">\n",
       "  <thead>\n",
       "    <tr style=\"text-align: right;\">\n",
       "      <th></th>\n",
       "      <th>raceId</th>\n",
       "      <th>driverId</th>\n",
       "      <th>lap</th>\n",
       "      <th>position</th>\n",
       "      <th>time</th>\n",
       "      <th>milliseconds</th>\n",
       "    </tr>\n",
       "  </thead>\n",
       "  <tbody>\n",
       "    <tr>\n",
       "      <th>0</th>\n",
       "      <td>841</td>\n",
       "      <td>20</td>\n",
       "      <td>1</td>\n",
       "      <td>1</td>\n",
       "      <td>1:38.109</td>\n",
       "      <td>98109</td>\n",
       "    </tr>\n",
       "    <tr>\n",
       "      <th>1</th>\n",
       "      <td>841</td>\n",
       "      <td>20</td>\n",
       "      <td>2</td>\n",
       "      <td>1</td>\n",
       "      <td>1:33.006</td>\n",
       "      <td>93006</td>\n",
       "    </tr>\n",
       "    <tr>\n",
       "      <th>2</th>\n",
       "      <td>841</td>\n",
       "      <td>20</td>\n",
       "      <td>3</td>\n",
       "      <td>1</td>\n",
       "      <td>1:32.713</td>\n",
       "      <td>92713</td>\n",
       "    </tr>\n",
       "    <tr>\n",
       "      <th>3</th>\n",
       "      <td>841</td>\n",
       "      <td>20</td>\n",
       "      <td>4</td>\n",
       "      <td>1</td>\n",
       "      <td>1:32.803</td>\n",
       "      <td>92803</td>\n",
       "    </tr>\n",
       "    <tr>\n",
       "      <th>4</th>\n",
       "      <td>841</td>\n",
       "      <td>20</td>\n",
       "      <td>5</td>\n",
       "      <td>1</td>\n",
       "      <td>1:32.342</td>\n",
       "      <td>92342</td>\n",
       "    </tr>\n",
       "  </tbody>\n",
       "</table>\n",
       "</div>"
      ],
      "text/plain": [
       "   raceId  driverId  lap  position      time  milliseconds\n",
       "0     841        20    1         1  1:38.109         98109\n",
       "1     841        20    2         1  1:33.006         93006\n",
       "2     841        20    3         1  1:32.713         92713\n",
       "3     841        20    4         1  1:32.803         92803\n",
       "4     841        20    5         1  1:32.342         92342"
      ]
     },
     "execution_count": 3,
     "metadata": {},
     "output_type": "execute_result"
    }
   ],
   "source": [
    "laptime = pd.read_csv('/kaggle/input/f1-laptime/lapTimes.csv')\n",
    "laptime.head()"
   ]
  },
  {
   "cell_type": "code",
   "execution_count": 4,
   "id": "aa3f37b8",
   "metadata": {
    "execution": {
     "iopub.execute_input": "2025-06-15T15:27:35.664589Z",
     "iopub.status.busy": "2025-06-15T15:27:35.664242Z",
     "iopub.status.idle": "2025-06-15T15:27:35.740095Z",
     "shell.execute_reply": "2025-06-15T15:27:35.738909Z"
    },
    "papermill": {
     "duration": 0.0822,
     "end_time": "2025-06-15T15:27:35.741733",
     "exception": false,
     "start_time": "2025-06-15T15:27:35.659533",
     "status": "completed"
    },
    "tags": []
   },
   "outputs": [
    {
     "data": {
      "text/html": [
       "<div>\n",
       "<style scoped>\n",
       "    .dataframe tbody tr th:only-of-type {\n",
       "        vertical-align: middle;\n",
       "    }\n",
       "\n",
       "    .dataframe tbody tr th {\n",
       "        vertical-align: top;\n",
       "    }\n",
       "\n",
       "    .dataframe thead th {\n",
       "        text-align: right;\n",
       "    }\n",
       "</style>\n",
       "<table border=\"1\" class=\"dataframe\">\n",
       "  <thead>\n",
       "    <tr style=\"text-align: right;\">\n",
       "      <th></th>\n",
       "      <th>raceId</th>\n",
       "      <th>driverId</th>\n",
       "      <th>lap</th>\n",
       "      <th>position</th>\n",
       "      <th>time</th>\n",
       "      <th>milliseconds</th>\n",
       "      <th>year</th>\n",
       "    </tr>\n",
       "  </thead>\n",
       "  <tbody>\n",
       "    <tr>\n",
       "      <th>0</th>\n",
       "      <td>841</td>\n",
       "      <td>20</td>\n",
       "      <td>1</td>\n",
       "      <td>1</td>\n",
       "      <td>1:38.109</td>\n",
       "      <td>98109</td>\n",
       "      <td>2011</td>\n",
       "    </tr>\n",
       "    <tr>\n",
       "      <th>1</th>\n",
       "      <td>841</td>\n",
       "      <td>20</td>\n",
       "      <td>2</td>\n",
       "      <td>1</td>\n",
       "      <td>1:33.006</td>\n",
       "      <td>93006</td>\n",
       "      <td>2011</td>\n",
       "    </tr>\n",
       "    <tr>\n",
       "      <th>2</th>\n",
       "      <td>841</td>\n",
       "      <td>20</td>\n",
       "      <td>3</td>\n",
       "      <td>1</td>\n",
       "      <td>1:32.713</td>\n",
       "      <td>92713</td>\n",
       "      <td>2011</td>\n",
       "    </tr>\n",
       "    <tr>\n",
       "      <th>3</th>\n",
       "      <td>841</td>\n",
       "      <td>20</td>\n",
       "      <td>4</td>\n",
       "      <td>1</td>\n",
       "      <td>1:32.803</td>\n",
       "      <td>92803</td>\n",
       "      <td>2011</td>\n",
       "    </tr>\n",
       "    <tr>\n",
       "      <th>4</th>\n",
       "      <td>841</td>\n",
       "      <td>20</td>\n",
       "      <td>5</td>\n",
       "      <td>1</td>\n",
       "      <td>1:32.342</td>\n",
       "      <td>92342</td>\n",
       "      <td>2011</td>\n",
       "    </tr>\n",
       "  </tbody>\n",
       "</table>\n",
       "</div>"
      ],
      "text/plain": [
       "   raceId  driverId  lap  position      time  milliseconds  year\n",
       "0     841        20    1         1  1:38.109         98109  2011\n",
       "1     841        20    2         1  1:33.006         93006  2011\n",
       "2     841        20    3         1  1:32.713         92713  2011\n",
       "3     841        20    4         1  1:32.803         92803  2011\n",
       "4     841        20    5         1  1:32.342         92342  2011"
      ]
     },
     "execution_count": 4,
     "metadata": {},
     "output_type": "execute_result"
    }
   ],
   "source": [
    "laptime_with_year = laptime.merge(races[['raceId', 'year']], on='raceId', how='left')\n",
    "laptime_with_year.head()\n"
   ]
  },
  {
   "cell_type": "code",
   "execution_count": 5,
   "id": "80cb10ee",
   "metadata": {
    "execution": {
     "iopub.execute_input": "2025-06-15T15:27:35.750359Z",
     "iopub.status.busy": "2025-06-15T15:27:35.749492Z",
     "iopub.status.idle": "2025-06-15T15:27:35.777341Z",
     "shell.execute_reply": "2025-06-15T15:27:35.776444Z"
    },
    "papermill": {
     "duration": 0.03396,
     "end_time": "2025-06-15T15:27:35.778933",
     "exception": false,
     "start_time": "2025-06-15T15:27:35.744973",
     "status": "completed"
    },
    "tags": []
   },
   "outputs": [
    {
     "data": {
      "text/html": [
       "<div>\n",
       "<style scoped>\n",
       "    .dataframe tbody tr th:only-of-type {\n",
       "        vertical-align: middle;\n",
       "    }\n",
       "\n",
       "    .dataframe tbody tr th {\n",
       "        vertical-align: top;\n",
       "    }\n",
       "\n",
       "    .dataframe thead th {\n",
       "        text-align: right;\n",
       "    }\n",
       "</style>\n",
       "<table border=\"1\" class=\"dataframe\">\n",
       "  <thead>\n",
       "    <tr style=\"text-align: right;\">\n",
       "      <th></th>\n",
       "      <th>year</th>\n",
       "      <th>median_laptime_ms</th>\n",
       "    </tr>\n",
       "  </thead>\n",
       "  <tbody>\n",
       "    <tr>\n",
       "      <th>0</th>\n",
       "      <td>1996</td>\n",
       "      <td>91468.0</td>\n",
       "    </tr>\n",
       "    <tr>\n",
       "      <th>1</th>\n",
       "      <td>1997</td>\n",
       "      <td>86798.5</td>\n",
       "    </tr>\n",
       "    <tr>\n",
       "      <th>2</th>\n",
       "      <td>1998</td>\n",
       "      <td>87636.0</td>\n",
       "    </tr>\n",
       "    <tr>\n",
       "      <th>3</th>\n",
       "      <td>1999</td>\n",
       "      <td>88937.0</td>\n",
       "    </tr>\n",
       "    <tr>\n",
       "      <th>4</th>\n",
       "      <td>2000</td>\n",
       "      <td>87895.0</td>\n",
       "    </tr>\n",
       "  </tbody>\n",
       "</table>\n",
       "</div>"
      ],
      "text/plain": [
       "   year  median_laptime_ms\n",
       "0  1996            91468.0\n",
       "1  1997            86798.5\n",
       "2  1998            87636.0\n",
       "3  1999            88937.0\n",
       "4  2000            87895.0"
      ]
     },
     "execution_count": 5,
     "metadata": {},
     "output_type": "execute_result"
    }
   ],
   "source": [
    "median_laptimes = laptime_with_year.groupby('year')['milliseconds'].median().reset_index()\n",
    "median_laptimes.rename(columns={'milliseconds': 'median_laptime_ms'}, inplace=True)\n",
    "median_laptimes.head()\n"
   ]
  },
  {
   "cell_type": "markdown",
   "id": "8710e429",
   "metadata": {
    "papermill": {
     "duration": 0.002866,
     "end_time": "2025-06-15T15:27:35.785063",
     "exception": false,
     "start_time": "2025-06-15T15:27:35.782197",
     "status": "completed"
    },
    "tags": []
   },
   "source": [
    "Now graphically representing the data using matplotlib."
   ]
  },
  {
   "cell_type": "code",
   "execution_count": 6,
   "id": "b0789617",
   "metadata": {
    "execution": {
     "iopub.execute_input": "2025-06-15T15:27:35.792536Z",
     "iopub.status.busy": "2025-06-15T15:27:35.792221Z",
     "iopub.status.idle": "2025-06-15T15:27:36.130615Z",
     "shell.execute_reply": "2025-06-15T15:27:36.129188Z"
    },
    "papermill": {
     "duration": 0.344912,
     "end_time": "2025-06-15T15:27:36.133071",
     "exception": false,
     "start_time": "2025-06-15T15:27:35.788159",
     "status": "completed"
    },
    "tags": []
   },
   "outputs": [
    {
     "data": {
      "image/png": "[encoded data removed]",
      "text/plain": [
       "<Figure size 1000x600 with 1 Axes>"
      ]
     },
     "metadata": {},
     "output_type": "display_data"
    }
   ],
   "source": [
    "plt.figure(figsize=(10, 6))\n",
    "plt.plot(median_laptimes['year'], median_laptimes['median_laptime_ms'], marker='o', color='blue', linewidth=2)\n",
    "\n",
    "# Titles and labels\n",
    "plt.title('Median Lap Time per Year (in ms)', fontsize=14)\n",
    "plt.xlabel('Year', fontsize=12)\n",
    "plt.ylabel('Median Lap Time (ms)', fontsize=12)\n",
    "plt.grid(True)\n",
    "plt.tight_layout()\n",
    "plt.show()"
   ]
  },
  {
   "cell_type": "markdown",
   "id": "b8d50e85",
   "metadata": {
    "papermill": {
     "duration": 0.0057,
     "end_time": "2025-06-15T15:27:36.144016",
     "exception": false,
     "start_time": "2025-06-15T15:27:36.138316",
     "status": "completed"
    },
    "tags": []
   },
   "source": [
    "now representing the fastest laptime by year."
   ]
  },
  {
   "cell_type": "code",
   "execution_count": 7,
   "id": "4a52e273",
   "metadata": {
    "execution": {
     "iopub.execute_input": "2025-06-15T15:27:36.154389Z",
     "iopub.status.busy": "2025-06-15T15:27:36.154079Z",
     "iopub.status.idle": "2025-06-15T15:27:36.178794Z",
     "shell.execute_reply": "2025-06-15T15:27:36.177668Z"
    },
    "papermill": {
     "duration": 0.031582,
     "end_time": "2025-06-15T15:27:36.180506",
     "exception": false,
     "start_time": "2025-06-15T15:27:36.148924",
     "status": "completed"
    },
    "tags": []
   },
   "outputs": [
    {
     "data": {
      "text/html": [
       "<div>\n",
       "<style scoped>\n",
       "    .dataframe tbody tr th:only-of-type {\n",
       "        vertical-align: middle;\n",
       "    }\n",
       "\n",
       "    .dataframe tbody tr th {\n",
       "        vertical-align: top;\n",
       "    }\n",
       "\n",
       "    .dataframe thead th {\n",
       "        text-align: right;\n",
       "    }\n",
       "</style>\n",
       "<table border=\"1\" class=\"dataframe\">\n",
       "  <thead>\n",
       "    <tr style=\"text-align: right;\">\n",
       "      <th></th>\n",
       "      <th>year</th>\n",
       "      <th>fastest_laptime_ms</th>\n",
       "    </tr>\n",
       "  </thead>\n",
       "  <tbody>\n",
       "    <tr>\n",
       "      <th>0</th>\n",
       "      <td>1996</td>\n",
       "      <td>78610</td>\n",
       "    </tr>\n",
       "    <tr>\n",
       "      <th>1</th>\n",
       "      <td>1997</td>\n",
       "      <td>71814</td>\n",
       "    </tr>\n",
       "    <tr>\n",
       "      <th>2</th>\n",
       "      <td>1998</td>\n",
       "      <td>72878</td>\n",
       "    </tr>\n",
       "    <tr>\n",
       "      <th>3</th>\n",
       "      <td>1999</td>\n",
       "      <td>72107</td>\n",
       "    </tr>\n",
       "    <tr>\n",
       "      <th>4</th>\n",
       "      <td>2000</td>\n",
       "      <td>71783</td>\n",
       "    </tr>\n",
       "  </tbody>\n",
       "</table>\n",
       "</div>"
      ],
      "text/plain": [
       "   year  fastest_laptime_ms\n",
       "0  1996               78610\n",
       "1  1997               71814\n",
       "2  1998               72878\n",
       "3  1999               72107\n",
       "4  2000               71783"
      ]
     },
     "execution_count": 7,
     "metadata": {},
     "output_type": "execute_result"
    }
   ],
   "source": [
    "fastest_laptimes = laptime_with_year.groupby('year')['milliseconds'].min().reset_index()\n",
    "fastest_laptimes.rename(columns={'milliseconds': 'fastest_laptime_ms'}, inplace=True)\n",
    "fastest_laptimes.head()\n"
   ]
  },
  {
   "cell_type": "code",
   "execution_count": 8,
   "id": "c9df5b63",
   "metadata": {
    "execution": {
     "iopub.execute_input": "2025-06-15T15:27:36.192015Z",
     "iopub.status.busy": "2025-06-15T15:27:36.191271Z",
     "iopub.status.idle": "2025-06-15T15:27:36.488554Z",
     "shell.execute_reply": "2025-06-15T15:27:36.487395Z"
    },
    "papermill": {
     "duration": 0.304408,
     "end_time": "2025-06-15T15:27:36.490612",
     "exception": false,
     "start_time": "2025-06-15T15:27:36.186204",
     "status": "completed"
    },
    "tags": []
   },
   "outputs": [
    {
     "data": {
      "image/png": "[encoded data removed]",
      "text/plain": [
       "<Figure size 1000x600 with 1 Axes>"
      ]
     },
     "metadata": {},
     "output_type": "display_data"
    }
   ],
   "source": [
    "plt.figure(figsize=(10, 6))\n",
    "plt.plot(fastest_laptimes['year'], fastest_laptimes['fastest_laptime_ms'], marker='o', color='blue', linewidth=2)\n",
    "\n",
    "# Titles and labels\n",
    "plt.title('fastest Lap Time per Year (in ms)', fontsize=14)\n",
    "plt.xlabel('Year', fontsize=12)\n",
    "plt.ylabel('fastest Lap Time (ms)', fontsize=12)\n",
    "plt.grid(True)\n",
    "plt.tight_layout()\n",
    "plt.show()"
   ]
  }
 ],
 "metadata": {
  "kaggle": {
   "accelerator": "none",
   "dataSources": [
    {
     "datasetId": 7667439,
     "sourceId": 12174184,
     "sourceType": "datasetVersion"
    },
    {
     "datasetId": 7667590,
     "sourceId": 12174503,
     "sourceType": "datasetVersion"
    },
    {
     "datasetId": 7667598,
     "sourceId": 12174530,
     "sourceType": "datasetVersion"
    },
    {
     "sourceId": 1905502,
     "sourceType": "kernelVersion"
    }
   ],
   "dockerImageVersionId": 31040,
   "isGpuEnabled": false,
   "isInternetEnabled": false,
   "language": "python",
   "sourceType": "notebook"
  },
  "kernelspec": {
   "display_name": "Python 3",
   "language": "python",
   "name": "python3"
  },
  "language_info": {
   "codemirror_mode": {
    "name": "ipython",
    "version": 3
   },
   "file_extension": ".py",
   "mimetype": "text/x-python",
   "name": "python",
   "nbconvert_exporter": "python",
   "pygments_lexer": "ipython3",
   "version": "3.11.11"
  },
  "papermill": {
   "default_parameters": {},
   "duration": 9.20091,
   "end_time": "2025-06-15T15:27:37.016247",
   "environment_variables": {},
   "exception": null,
   "input_path": "__notebook__.ipynb",
   "output_path": "__notebook__.ipynb",
   "parameters": {},
   "start_time": "2025-06-15T15:27:27.815337",
   "version": "2.6.0"
  }
 },
 "nbformat": 4,
 "nbformat_minor": 5
}
